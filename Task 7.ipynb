{
 "cells": [
  {
   "cell_type": "markdown",
   "metadata": {},
   "source": [
    "## The Sparks Foundation\n",
    "\n",
    "## Data Science and Bussiness Analytics intern\n",
    "\n",
    "### Name - Omprakash Verma\n",
    "\n",
    "### Task 7 : Stock Market Prediction using Numerical and Textual Analysis\n",
    "\n",
    "Objective: \n",
    "1. Create a hybrid model for stock price/performance prediction using numerical analysis of historical stock prices, and sentimental analysis of news headlines\n",
    "2. Stock to analyze and predict - SENSEX (S&P BSE SENSEX)"
   ]
  },
  {
   "cell_type": "code",
   "execution_count": 1,
   "metadata": {},
   "outputs": [],
   "source": [
    "#importing the required libraries\n",
    "import numpy as np\n",
    "import pandas as pd\n",
    "import seaborn as sns\n",
    "import matplotlib.pyplot as plt\n",
    "%matplotlib inline \n",
    "\n",
    "from sklearn.preprocessing import MinMaxScaler\n",
    "from sklearn.metrics import mean_squared_error\n",
    "from sklearn import metrics\n",
    "from keras.models import Sequential\n",
    "from keras.layers import Dense, LSTM\n",
    "\n",
    "import warnings\n",
    "warnings.filterwarnings('ignore')"
   ]
  },
  {
   "cell_type": "markdown",
   "metadata": {},
   "source": [
    "### First Dataset"
   ]
  },
  {
   "cell_type": "code",
   "execution_count": 2,
   "metadata": {
    "scrolled": true
   },
   "outputs": [
    {
     "data": {
      "text/html": [
       "<div>\n",
       "<style scoped>\n",
       "    .dataframe tbody tr th:only-of-type {\n",
       "        vertical-align: middle;\n",
       "    }\n",
       "\n",
       "    .dataframe tbody tr th {\n",
       "        vertical-align: top;\n",
       "    }\n",
       "\n",
       "    .dataframe thead th {\n",
       "        text-align: right;\n",
       "    }\n",
       "</style>\n",
       "<table border=\"1\" class=\"dataframe\">\n",
       "  <thead>\n",
       "    <tr style=\"text-align: right;\">\n",
       "      <th></th>\n",
       "      <th>Date</th>\n",
       "      <th>Open</th>\n",
       "      <th>High</th>\n",
       "      <th>Low</th>\n",
       "      <th>Close</th>\n",
       "      <th>Adj Close</th>\n",
       "      <th>Volume</th>\n",
       "    </tr>\n",
       "  </thead>\n",
       "  <tbody>\n",
       "    <tr>\n",
       "      <th>0</th>\n",
       "      <td>2019-10-16</td>\n",
       "      <td>38637.050781</td>\n",
       "      <td>38666.378906</td>\n",
       "      <td>38416.671875</td>\n",
       "      <td>38598.988281</td>\n",
       "      <td>38598.988281</td>\n",
       "      <td>27500.0</td>\n",
       "    </tr>\n",
       "    <tr>\n",
       "      <th>1</th>\n",
       "      <td>2019-10-17</td>\n",
       "      <td>38647.441406</td>\n",
       "      <td>39104.691406</td>\n",
       "      <td>38557.429688</td>\n",
       "      <td>39052.058594</td>\n",
       "      <td>39052.058594</td>\n",
       "      <td>47100.0</td>\n",
       "    </tr>\n",
       "    <tr>\n",
       "      <th>2</th>\n",
       "      <td>2019-10-18</td>\n",
       "      <td>39087.828125</td>\n",
       "      <td>39361.058594</td>\n",
       "      <td>38963.601563</td>\n",
       "      <td>39298.378906</td>\n",
       "      <td>39298.378906</td>\n",
       "      <td>42400.0</td>\n",
       "    </tr>\n",
       "    <tr>\n",
       "      <th>3</th>\n",
       "      <td>2019-10-22</td>\n",
       "      <td>39233.398438</td>\n",
       "      <td>39426.468750</td>\n",
       "      <td>38924.851563</td>\n",
       "      <td>38963.839844</td>\n",
       "      <td>38963.839844</td>\n",
       "      <td>54500.0</td>\n",
       "    </tr>\n",
       "    <tr>\n",
       "      <th>4</th>\n",
       "      <td>2019-10-23</td>\n",
       "      <td>39063.839844</td>\n",
       "      <td>39196.671875</td>\n",
       "      <td>38866.078125</td>\n",
       "      <td>39058.828125</td>\n",
       "      <td>39058.828125</td>\n",
       "      <td>41000.0</td>\n",
       "    </tr>\n",
       "  </tbody>\n",
       "</table>\n",
       "</div>"
      ],
      "text/plain": [
       "         Date          Open          High           Low         Close  \\\n",
       "0  2019-10-16  38637.050781  38666.378906  38416.671875  38598.988281   \n",
       "1  2019-10-17  38647.441406  39104.691406  38557.429688  39052.058594   \n",
       "2  2019-10-18  39087.828125  39361.058594  38963.601563  39298.378906   \n",
       "3  2019-10-22  39233.398438  39426.468750  38924.851563  38963.839844   \n",
       "4  2019-10-23  39063.839844  39196.671875  38866.078125  39058.828125   \n",
       "\n",
       "      Adj Close   Volume  \n",
       "0  38598.988281  27500.0  \n",
       "1  39052.058594  47100.0  \n",
       "2  39298.378906  42400.0  \n",
       "3  38963.839844  54500.0  \n",
       "4  39058.828125  41000.0  "
      ]
     },
     "execution_count": 2,
     "metadata": {},
     "output_type": "execute_result"
    }
   ],
   "source": [
    "# Importing the first dataset\n",
    "stock=pd.read_csv(r'C:\\Users\\omprakash\\Documents\\^BSESN.csv')\n",
    "stock.head()"
   ]
  },
  {
   "cell_type": "code",
   "execution_count": 3,
   "metadata": {},
   "outputs": [
    {
     "data": {
      "text/plain": [
       "Date         0\n",
       "Open         2\n",
       "High         2\n",
       "Low          2\n",
       "Close        2\n",
       "Adj Close    2\n",
       "Volume       2\n",
       "dtype: int64"
      ]
     },
     "execution_count": 3,
     "metadata": {},
     "output_type": "execute_result"
    }
   ],
   "source": [
    "#checking the null value\n",
    "stock.isnull().sum()"
   ]
  },
  {
   "cell_type": "code",
   "execution_count": 4,
   "metadata": {},
   "outputs": [
    {
     "data": {
      "text/plain": [
       "Text(0.5, 1.0, 'Close Price History')"
      ]
     },
     "execution_count": 4,
     "metadata": {},
     "output_type": "execute_result"
    },
    {
     "data": {
      "image/png": "[encoded data removed]",
      "text/plain": [
       "<Figure size 1152x576 with 1 Axes>"
      ]
     },
     "metadata": {
      "needs_background": "light"
     },
     "output_type": "display_data"
    }
   ],
   "source": [
    "# Extract date frame and plot closing stock price w.r.t time\n",
    "stock['Date'] = pd.to_datetime(stock.Date,format='%Y-%m-%d')\n",
    "stock.index = stock['Date']\n",
    "stock.dropna(inplace=True)\n",
    "#plot\n",
    "plt.figure(figsize=(16,8))\n",
    "plt.plot(stock['Close'], label='Close Price history',color='r')\n",
    "plt.legend()\n",
    "plt.title('Close Price History', fontsize=16)"
   ]
  },
  {
   "cell_type": "code",
   "execution_count": 5,
   "metadata": {},
   "outputs": [],
   "source": [
    "def create_dataset(dataset, time_step=1):\n",
    "    dataX, dataY = [], []\n",
    "    for i in range(len(dataset)-time_step-1):\n",
    "        a = dataset[i:(i+time_step), 0]\n",
    "        dataX.append(a)\n",
    "        dataY.append(df2[i + time_step, 0])\n",
    "    return np.array(dataX), np.array(dataY)"
   ]
  },
  {
   "cell_type": "code",
   "execution_count": 6,
   "metadata": {},
   "outputs": [],
   "source": [
    "df2 = pd.read_csv(r'C:\\Users\\omprakash\\Documents\\^BSESN.csv', usecols=[5], engine='python')\n",
    "df2.dropna(inplace=True)\n",
    "df2 = df2.values\n",
    "df2 = df2.astype('float32')"
   ]
  },
  {
   "cell_type": "code",
   "execution_count": 7,
   "metadata": {},
   "outputs": [],
   "source": [
    "# normalize the dataset\n",
    "scaler = MinMaxScaler(feature_range=(0, 1))\n",
    "df2 = scaler.fit_transform(df2)\n",
    "\n",
    "# split into train and test sets\n",
    "train_size = int(len(df2) * 0.67)\n",
    "test_size = len(df2) - train_size\n",
    "train, test = df2[0:train_size,:], df2[train_size:len(df2),:]"
   ]
  },
  {
   "cell_type": "code",
   "execution_count": 8,
   "metadata": {},
   "outputs": [],
   "source": [
    "# reshape into X=t and Y=t+1\n",
    "look_back = 3\n",
    "trainX, trainY = create_dataset(train, look_back)\n",
    "testX, testY = create_dataset(test, look_back)\n",
    "# reshape input to be [samples, time steps, features]\n",
    "trainX = np.reshape(trainX, (trainX.shape[0], trainX.shape[1], 1))\n",
    "testX = np.reshape(testX, (testX.shape[0], testX.shape[1], 1))"
   ]
  },
  {
   "cell_type": "code",
   "execution_count": 9,
   "metadata": {},
   "outputs": [
    {
     "name": "stdout",
     "output_type": "stream",
     "text": [
      "Epoch 1/100\n",
      "162/162 - 4s - loss: 0.1574\n",
      "Epoch 2/100\n",
      "162/162 - 1s - loss: 0.0173\n",
      "Epoch 3/100\n",
      "162/162 - 1s - loss: 0.0103\n",
      "Epoch 4/100\n",
      "162/162 - 1s - loss: 0.0056\n",
      "Epoch 5/100\n",
      "162/162 - 1s - loss: 0.0036\n",
      "Epoch 6/100\n",
      "162/162 - 0s - loss: 0.0030\n",
      "Epoch 7/100\n",
      "162/162 - 0s - loss: 0.0029\n",
      "Epoch 8/100\n",
      "162/162 - 0s - loss: 0.0028\n",
      "Epoch 9/100\n",
      "162/162 - 0s - loss: 0.0030\n",
      "Epoch 10/100\n",
      "162/162 - 0s - loss: 0.0029\n",
      "Epoch 11/100\n",
      "162/162 - 0s - loss: 0.0029\n",
      "Epoch 12/100\n",
      "162/162 - 0s - loss: 0.0029\n",
      "Epoch 13/100\n",
      "162/162 - 1s - loss: 0.0030\n",
      "Epoch 14/100\n",
      "162/162 - 1s - loss: 0.0028\n",
      "Epoch 15/100\n",
      "162/162 - 1s - loss: 0.0028\n",
      "Epoch 16/100\n",
      "162/162 - 1s - loss: 0.0030\n",
      "Epoch 17/100\n",
      "162/162 - 1s - loss: 0.0028\n",
      "Epoch 18/100\n",
      "162/162 - 1s - loss: 0.0028\n",
      "Epoch 19/100\n",
      "162/162 - 1s - loss: 0.0029\n",
      "Epoch 20/100\n",
      "162/162 - 1s - loss: 0.0029\n",
      "Epoch 21/100\n",
      "162/162 - 1s - loss: 0.0027\n",
      "Epoch 22/100\n",
      "162/162 - 1s - loss: 0.0027\n",
      "Epoch 23/100\n",
      "162/162 - 1s - loss: 0.0028\n",
      "Epoch 24/100\n",
      "162/162 - 1s - loss: 0.0028\n",
      "Epoch 25/100\n",
      "162/162 - 1s - loss: 0.0030\n",
      "Epoch 26/100\n",
      "162/162 - 1s - loss: 0.0028\n",
      "Epoch 27/100\n",
      "162/162 - 1s - loss: 0.0029\n",
      "Epoch 28/100\n",
      "162/162 - 1s - loss: 0.0028\n",
      "Epoch 29/100\n",
      "162/162 - 1s - loss: 0.0029\n",
      "Epoch 30/100\n",
      "162/162 - 1s - loss: 0.0027\n",
      "Epoch 31/100\n",
      "162/162 - 1s - loss: 0.0028\n",
      "Epoch 32/100\n",
      "162/162 - 1s - loss: 0.0028\n",
      "Epoch 33/100\n",
      "162/162 - 1s - loss: 0.0027\n",
      "Epoch 34/100\n",
      "162/162 - 1s - loss: 0.0028\n",
      "Epoch 35/100\n",
      "162/162 - 1s - loss: 0.0027\n",
      "Epoch 36/100\n",
      "162/162 - 1s - loss: 0.0028\n",
      "Epoch 37/100\n",
      "162/162 - 1s - loss: 0.0027\n",
      "Epoch 38/100\n",
      "162/162 - 1s - loss: 0.0027\n",
      "Epoch 39/100\n",
      "162/162 - 1s - loss: 0.0026\n",
      "Epoch 40/100\n",
      "162/162 - 1s - loss: 0.0027\n",
      "Epoch 41/100\n",
      "162/162 - 1s - loss: 0.0026\n",
      "Epoch 42/100\n",
      "162/162 - 1s - loss: 0.0026\n",
      "Epoch 43/100\n",
      "162/162 - 1s - loss: 0.0029\n",
      "Epoch 44/100\n",
      "162/162 - 1s - loss: 0.0027\n",
      "Epoch 45/100\n",
      "162/162 - 1s - loss: 0.0026\n",
      "Epoch 46/100\n",
      "162/162 - 1s - loss: 0.0026\n",
      "Epoch 47/100\n",
      "162/162 - 1s - loss: 0.0026\n",
      "Epoch 48/100\n",
      "162/162 - 1s - loss: 0.0026\n",
      "Epoch 49/100\n",
      "162/162 - 1s - loss: 0.0025\n",
      "Epoch 50/100\n",
      "162/162 - 1s - loss: 0.0026\n",
      "Epoch 51/100\n",
      "162/162 - 1s - loss: 0.0026\n",
      "Epoch 52/100\n",
      "162/162 - 1s - loss: 0.0025\n",
      "Epoch 53/100\n",
      "162/162 - 1s - loss: 0.0025\n",
      "Epoch 54/100\n",
      "162/162 - 0s - loss: 0.0025\n",
      "Epoch 55/100\n",
      "162/162 - 1s - loss: 0.0025\n",
      "Epoch 56/100\n",
      "162/162 - 1s - loss: 0.0025\n",
      "Epoch 57/100\n",
      "162/162 - 1s - loss: 0.0026\n",
      "Epoch 58/100\n",
      "162/162 - 1s - loss: 0.0024\n",
      "Epoch 59/100\n",
      "162/162 - 1s - loss: 0.0025\n",
      "Epoch 60/100\n",
      "162/162 - 1s - loss: 0.0024\n",
      "Epoch 61/100\n",
      "162/162 - 1s - loss: 0.0026\n",
      "Epoch 62/100\n",
      "162/162 - 1s - loss: 0.0025\n",
      "Epoch 63/100\n",
      "162/162 - 1s - loss: 0.0024\n",
      "Epoch 64/100\n",
      "162/162 - 1s - loss: 0.0024\n",
      "Epoch 65/100\n",
      "162/162 - 1s - loss: 0.0024\n",
      "Epoch 66/100\n",
      "162/162 - 1s - loss: 0.0023\n",
      "Epoch 67/100\n",
      "162/162 - 1s - loss: 0.0023\n",
      "Epoch 68/100\n",
      "162/162 - 1s - loss: 0.0024\n",
      "Epoch 69/100\n",
      "162/162 - 1s - loss: 0.0023\n",
      "Epoch 70/100\n",
      "162/162 - 1s - loss: 0.0023\n",
      "Epoch 71/100\n",
      "162/162 - 1s - loss: 0.0023\n",
      "Epoch 72/100\n",
      "162/162 - 1s - loss: 0.0023\n",
      "Epoch 73/100\n",
      "162/162 - 1s - loss: 0.0022\n",
      "Epoch 74/100\n",
      "162/162 - 1s - loss: 0.0022\n",
      "Epoch 75/100\n",
      "162/162 - 1s - loss: 0.0024\n",
      "Epoch 76/100\n",
      "162/162 - 1s - loss: 0.0022\n",
      "Epoch 77/100\n",
      "162/162 - 1s - loss: 0.0022\n",
      "Epoch 78/100\n",
      "162/162 - 1s - loss: 0.0022\n",
      "Epoch 79/100\n",
      "162/162 - 1s - loss: 0.0022\n",
      "Epoch 80/100\n",
      "162/162 - 1s - loss: 0.0023\n",
      "Epoch 81/100\n",
      "162/162 - 1s - loss: 0.0023\n",
      "Epoch 82/100\n",
      "162/162 - 1s - loss: 0.0023\n",
      "Epoch 83/100\n",
      "162/162 - 1s - loss: 0.0023\n",
      "Epoch 84/100\n",
      "162/162 - 0s - loss: 0.0022\n",
      "Epoch 85/100\n",
      "162/162 - 1s - loss: 0.0023\n",
      "Epoch 86/100\n",
      "162/162 - 1s - loss: 0.0023\n",
      "Epoch 87/100\n",
      "162/162 - 1s - loss: 0.0023\n",
      "Epoch 88/100\n",
      "162/162 - 1s - loss: 0.0022\n",
      "Epoch 89/100\n",
      "162/162 - 1s - loss: 0.0023\n",
      "Epoch 90/100\n",
      "162/162 - 1s - loss: 0.0023\n",
      "Epoch 91/100\n",
      "162/162 - 1s - loss: 0.0022\n",
      "Epoch 92/100\n",
      "162/162 - 1s - loss: 0.0022\n",
      "Epoch 93/100\n",
      "162/162 - 1s - loss: 0.0022\n",
      "Epoch 94/100\n",
      "162/162 - 1s - loss: 0.0022\n",
      "Epoch 95/100\n",
      "162/162 - 1s - loss: 0.0022\n",
      "Epoch 96/100\n",
      "162/162 - 1s - loss: 0.0022\n",
      "Epoch 97/100\n",
      "162/162 - 1s - loss: 0.0022\n",
      "Epoch 98/100\n",
      "162/162 - 1s - loss: 0.0021\n",
      "Epoch 99/100\n",
      "162/162 - 1s - loss: 0.0021\n",
      "Epoch 100/100\n",
      "162/162 - 1s - loss: 0.0021\n"
     ]
    },
    {
     "data": {
      "text/plain": [
       "<tensorflow.python.keras.callbacks.History at 0x2b029a634e0>"
      ]
     },
     "execution_count": 9,
     "metadata": {},
     "output_type": "execute_result"
    }
   ],
   "source": [
    "# create and fit the LSTM network\n",
    "model = Sequential()\n",
    "model.add(LSTM(7, input_shape=(look_back, 1)))\n",
    "model.add(Dense(1))\n",
    "model.compile(loss='mean_squared_error', optimizer='adam')\n",
    "model.fit(trainX, trainY, epochs=100, batch_size=1, verbose=2)"
   ]
  },
  {
   "cell_type": "code",
   "execution_count": 10,
   "metadata": {},
   "outputs": [],
   "source": [
    "# make predictions\n",
    "trainPredict = model.predict(trainX)\n",
    "testPredict = model.predict(testX)\n",
    "# invert predictions\n",
    "trainPredict = scaler.inverse_transform(trainPredict)\n",
    "trainY = scaler.inverse_transform([trainY])\n",
    "testPredict = scaler.inverse_transform(testPredict)\n",
    "testY = scaler.inverse_transform([testY])"
   ]
  },
  {
   "cell_type": "code",
   "execution_count": 11,
   "metadata": {
    "scrolled": false
   },
   "outputs": [
    {
     "data": {
      "image/png": "[encoded data removed]",
      "text/plain": [
       "<Figure size 1008x576 with 1 Axes>"
      ]
     },
     "metadata": {
      "needs_background": "light"
     },
     "output_type": "display_data"
    }
   ],
   "source": [
    "# shift train predictions for plotting\n",
    "trainPredictPlot = np.empty_like(df2)\n",
    "trainPredictPlot[:, :] = np.nan\n",
    "trainPredictPlot[look_back:len(trainPredict)+look_back, :] = trainPredict\n",
    "# shift test predictions for plotting\n",
    "testPredictPlot = np.empty_like(df2)\n",
    "testPredictPlot[:, :] = np.nan\n",
    "testPredictPlot[len(trainPredict)+(look_back*2)+1:len(df2)-1, :] = testPredict\n",
    "# plot baseline and predictions\n",
    "plt.figure(figsize=(14,8))\n",
    "plt.plot(scaler.inverse_transform(df2))\n",
    "plt.plot(trainPredictPlot,color='r')\n",
    "plt.plot(testPredictPlot,color='y')\n",
    "plt.show()"
   ]
  },
  {
   "cell_type": "code",
   "execution_count": 12,
   "metadata": {},
   "outputs": [
    {
     "name": "stdout",
     "output_type": "stream",
     "text": [
      "Root mean square error =  791.6117863354559  RMSE\n",
      "Root mean square error =  3537.0328348352596  RMSE\n"
     ]
    }
   ],
   "source": [
    "# calculate root mean squared error\n",
    "import math\n",
    "trainScore = math.sqrt(mean_squared_error(trainY[0], trainPredict[:,0]))\n",
    "print(\"Root mean square error = \",trainScore,\" RMSE\")\n",
    "testScore = math.sqrt(mean_squared_error(testY[0], testPredict[:,0]))\n",
    "print(\"Root mean square error = \",testScore,\" RMSE\")"
   ]
  },
  {
   "cell_type": "markdown",
   "metadata": {},
   "source": [
    "### Second dataset"
   ]
  },
  {
   "cell_type": "code",
   "execution_count": 13,
   "metadata": {},
   "outputs": [
    {
     "data": {
      "text/html": [
       "<div>\n",
       "<style scoped>\n",
       "    .dataframe tbody tr th:only-of-type {\n",
       "        vertical-align: middle;\n",
       "    }\n",
       "\n",
       "    .dataframe tbody tr th {\n",
       "        vertical-align: top;\n",
       "    }\n",
       "\n",
       "    .dataframe thead th {\n",
       "        text-align: right;\n",
       "    }\n",
       "</style>\n",
       "<table border=\"1\" class=\"dataframe\">\n",
       "  <thead>\n",
       "    <tr style=\"text-align: right;\">\n",
       "      <th></th>\n",
       "      <th>Date</th>\n",
       "      <th>Category</th>\n",
       "      <th>News</th>\n",
       "    </tr>\n",
       "  </thead>\n",
       "  <tbody>\n",
       "    <tr>\n",
       "      <th>0</th>\n",
       "      <td>publish_date</td>\n",
       "      <td>headline_category</td>\n",
       "      <td>headline_text</td>\n",
       "    </tr>\n",
       "    <tr>\n",
       "      <th>1</th>\n",
       "      <td>20010101</td>\n",
       "      <td>sports.wwe</td>\n",
       "      <td>win over cena satisfying but defeating underta...</td>\n",
       "    </tr>\n",
       "    <tr>\n",
       "      <th>2</th>\n",
       "      <td>20010102</td>\n",
       "      <td>unknown</td>\n",
       "      <td>Status quo will not be disturbed at Ayodhya; s...</td>\n",
       "    </tr>\n",
       "    <tr>\n",
       "      <th>3</th>\n",
       "      <td>20010102</td>\n",
       "      <td>unknown</td>\n",
       "      <td>Fissures in Hurriyat over Pak visit</td>\n",
       "    </tr>\n",
       "    <tr>\n",
       "      <th>4</th>\n",
       "      <td>20010102</td>\n",
       "      <td>unknown</td>\n",
       "      <td>America's unwanted heading for India?</td>\n",
       "    </tr>\n",
       "  </tbody>\n",
       "</table>\n",
       "</div>"
      ],
      "text/plain": [
       "           Date           Category  \\\n",
       "0  publish_date  headline_category   \n",
       "1      20010101         sports.wwe   \n",
       "2      20010102            unknown   \n",
       "3      20010102            unknown   \n",
       "4      20010102            unknown   \n",
       "\n",
       "                                                News  \n",
       "0                                      headline_text  \n",
       "1  win over cena satisfying but defeating underta...  \n",
       "2  Status quo will not be disturbed at Ayodhya; s...  \n",
       "3                Fissures in Hurriyat over Pak visit  \n",
       "4              America's unwanted heading for India?  "
      ]
     },
     "execution_count": 13,
     "metadata": {},
     "output_type": "execute_result"
    }
   ],
   "source": [
    "# Importing the second dataset\n",
    "columns=['Date','Category','News']\n",
    "news=pd.read_csv(r'C:\\Users\\omprakash\\Documents\\india-news-headlines.csv',names=columns)\n",
    "news.head()"
   ]
  },
  {
   "cell_type": "code",
   "execution_count": 14,
   "metadata": {},
   "outputs": [
    {
     "data": {
      "text/html": [
       "<div>\n",
       "<style scoped>\n",
       "    .dataframe tbody tr th:only-of-type {\n",
       "        vertical-align: middle;\n",
       "    }\n",
       "\n",
       "    .dataframe tbody tr th {\n",
       "        vertical-align: top;\n",
       "    }\n",
       "\n",
       "    .dataframe thead th {\n",
       "        text-align: right;\n",
       "    }\n",
       "</style>\n",
       "<table border=\"1\" class=\"dataframe\">\n",
       "  <thead>\n",
       "    <tr style=\"text-align: right;\">\n",
       "      <th></th>\n",
       "      <th>Date</th>\n",
       "      <th>News</th>\n",
       "    </tr>\n",
       "  </thead>\n",
       "  <tbody>\n",
       "    <tr>\n",
       "      <th>1</th>\n",
       "      <td>20010101</td>\n",
       "      <td>win over cena satisfying but defeating underta...</td>\n",
       "    </tr>\n",
       "    <tr>\n",
       "      <th>2</th>\n",
       "      <td>20010102</td>\n",
       "      <td>Status quo will not be disturbed at Ayodhya; s...</td>\n",
       "    </tr>\n",
       "    <tr>\n",
       "      <th>3</th>\n",
       "      <td>20010102</td>\n",
       "      <td>Fissures in Hurriyat over Pak visit</td>\n",
       "    </tr>\n",
       "    <tr>\n",
       "      <th>4</th>\n",
       "      <td>20010102</td>\n",
       "      <td>America's unwanted heading for India?</td>\n",
       "    </tr>\n",
       "    <tr>\n",
       "      <th>5</th>\n",
       "      <td>20010102</td>\n",
       "      <td>For bigwigs; it is destination Goa</td>\n",
       "    </tr>\n",
       "  </tbody>\n",
       "</table>\n",
       "</div>"
      ],
      "text/plain": [
       "       Date                                               News\n",
       "1  20010101  win over cena satisfying but defeating underta...\n",
       "2  20010102  Status quo will not be disturbed at Ayodhya; s...\n",
       "3  20010102                Fissures in Hurriyat over Pak visit\n",
       "4  20010102              America's unwanted heading for India?\n",
       "5  20010102                 For bigwigs; it is destination Goa"
      ]
     },
     "execution_count": 14,
     "metadata": {},
     "output_type": "execute_result"
    }
   ],
   "source": [
    "news.drop(0, inplace=True)\n",
    "news.drop('Category', axis=1, inplace=True)\n",
    "news.head()"
   ]
  },
  {
   "cell_type": "code",
   "execution_count": 15,
   "metadata": {},
   "outputs": [
    {
     "data": {
      "text/html": [
       "<div>\n",
       "<style scoped>\n",
       "    .dataframe tbody tr th:only-of-type {\n",
       "        vertical-align: middle;\n",
       "    }\n",
       "\n",
       "    .dataframe tbody tr th {\n",
       "        vertical-align: top;\n",
       "    }\n",
       "\n",
       "    .dataframe thead th {\n",
       "        text-align: right;\n",
       "    }\n",
       "</style>\n",
       "<table border=\"1\" class=\"dataframe\">\n",
       "  <thead>\n",
       "    <tr style=\"text-align: right;\">\n",
       "      <th></th>\n",
       "      <th>Date</th>\n",
       "      <th>News</th>\n",
       "    </tr>\n",
       "  </thead>\n",
       "  <tbody>\n",
       "    <tr>\n",
       "      <th>1</th>\n",
       "      <td>2001-01-01</td>\n",
       "      <td>win over cena satisfying but defeating underta...</td>\n",
       "    </tr>\n",
       "    <tr>\n",
       "      <th>2</th>\n",
       "      <td>2001-01-02</td>\n",
       "      <td>Status quo will not be disturbed at Ayodhya; s...</td>\n",
       "    </tr>\n",
       "    <tr>\n",
       "      <th>3</th>\n",
       "      <td>2001-01-02</td>\n",
       "      <td>Fissures in Hurriyat over Pak visit</td>\n",
       "    </tr>\n",
       "    <tr>\n",
       "      <th>4</th>\n",
       "      <td>2001-01-02</td>\n",
       "      <td>America's unwanted heading for India?</td>\n",
       "    </tr>\n",
       "    <tr>\n",
       "      <th>5</th>\n",
       "      <td>2001-01-02</td>\n",
       "      <td>For bigwigs; it is destination Goa</td>\n",
       "    </tr>\n",
       "  </tbody>\n",
       "</table>\n",
       "</div>"
      ],
      "text/plain": [
       "        Date                                               News\n",
       "1 2001-01-01  win over cena satisfying but defeating underta...\n",
       "2 2001-01-02  Status quo will not be disturbed at Ayodhya; s...\n",
       "3 2001-01-02                Fissures in Hurriyat over Pak visit\n",
       "4 2001-01-02              America's unwanted heading for India?\n",
       "5 2001-01-02                 For bigwigs; it is destination Goa"
      ]
     },
     "execution_count": 15,
     "metadata": {},
     "output_type": "execute_result"
    }
   ],
   "source": [
    "# Restructuring the date format\n",
    "news['Date'] = pd.to_datetime(news['Date'],format= '%Y %m %d')\n",
    "news.head()"
   ]
  },
  {
   "cell_type": "code",
   "execution_count": 16,
   "metadata": {},
   "outputs": [
    {
     "data": {
      "text/html": [
       "<div>\n",
       "<style scoped>\n",
       "    .dataframe tbody tr th:only-of-type {\n",
       "        vertical-align: middle;\n",
       "    }\n",
       "\n",
       "    .dataframe tbody tr th {\n",
       "        vertical-align: top;\n",
       "    }\n",
       "\n",
       "    .dataframe thead th {\n",
       "        text-align: right;\n",
       "    }\n",
       "</style>\n",
       "<table border=\"1\" class=\"dataframe\">\n",
       "  <thead>\n",
       "    <tr style=\"text-align: right;\">\n",
       "      <th></th>\n",
       "      <th>Date</th>\n",
       "      <th>News</th>\n",
       "    </tr>\n",
       "  </thead>\n",
       "  <tbody>\n",
       "    <tr>\n",
       "      <th>0</th>\n",
       "      <td>2001-01-01</td>\n",
       "      <td>win over cena satisfying but defeating underta...</td>\n",
       "    </tr>\n",
       "    <tr>\n",
       "      <th>1</th>\n",
       "      <td>2001-01-02</td>\n",
       "      <td>Status quo will not be disturbed at Ayodhya; s...</td>\n",
       "    </tr>\n",
       "    <tr>\n",
       "      <th>2</th>\n",
       "      <td>2001-01-03</td>\n",
       "      <td>Powerless north India gropes in the dark Think...</td>\n",
       "    </tr>\n",
       "    <tr>\n",
       "      <th>3</th>\n",
       "      <td>2001-01-04</td>\n",
       "      <td>The string that pulled Stephen Hawking to Indi...</td>\n",
       "    </tr>\n",
       "    <tr>\n",
       "      <th>4</th>\n",
       "      <td>2001-01-05</td>\n",
       "      <td>Light combat craft takes India into club class...</td>\n",
       "    </tr>\n",
       "  </tbody>\n",
       "</table>\n",
       "</div>"
      ],
      "text/plain": [
       "        Date                                               News\n",
       "0 2001-01-01  win over cena satisfying but defeating underta...\n",
       "1 2001-01-02  Status quo will not be disturbed at Ayodhya; s...\n",
       "2 2001-01-03  Powerless north India gropes in the dark Think...\n",
       "3 2001-01-04  The string that pulled Stephen Hawking to Indi...\n",
       "4 2001-01-05  Light combat craft takes India into club class..."
      ]
     },
     "execution_count": 16,
     "metadata": {},
     "output_type": "execute_result"
    }
   ],
   "source": [
    "#Grouping the headlines for each day\n",
    "news['News'] = news.groupby(['Date']).transform(lambda x : ' '.join(x)) \n",
    "news = news.drop_duplicates() \n",
    "news.reset_index(inplace = True, drop = True)\n",
    "news.head()"
   ]
  },
  {
   "cell_type": "code",
   "execution_count": 17,
   "metadata": {},
   "outputs": [
    {
     "data": {
      "text/plain": [
       "0    win over cena satisfying but defeating underta...\n",
       "1    Status quo will not be disturbed at Ayodhya; s...\n",
       "2    Powerless north India gropes in the dark Think...\n",
       "3    The string that pulled Stephen Hawking to Indi...\n",
       "4    Light combat craft takes India into club class...\n",
       "5    Light combat craft takes India into club class...\n",
       "6    Muslim body rules out talks on Ayodhya Bajrang...\n",
       "7    Sangh Parivar; Babri panel up the ante Frontru...\n",
       "8    Financier Bharat Shah held for alleged links w...\n",
       "9    Fend for yourselves; Pande tells doctors Burea...\n",
       "Name: News, dtype: object"
      ]
     },
     "execution_count": 17,
     "metadata": {},
     "output_type": "execute_result"
    }
   ],
   "source": [
    "news['News'].head(10)"
   ]
  },
  {
   "cell_type": "code",
   "execution_count": 18,
   "metadata": {},
   "outputs": [],
   "source": [
    "from textblob import TextBlob\n",
    "from nltk.sentiment.vader import SentimentIntensityAnalyzer\n",
    "from sklearn.ensemble import RandomForestRegressor"
   ]
  },
  {
   "cell_type": "markdown",
   "metadata": {},
   "source": [
    "### Adding subjectivity and polarity score"
   ]
  },
  {
   "cell_type": "code",
   "execution_count": 19,
   "metadata": {},
   "outputs": [],
   "source": [
    "#Functions to get the subjectivity and polarity\n",
    "def getSubjectivity(text):\n",
    "  return TextBlob(text).sentiment.subjectivity\n",
    "\n",
    "def getPolarity(text):\n",
    "  return  TextBlob(text).sentiment.polarity"
   ]
  },
  {
   "cell_type": "code",
   "execution_count": 20,
   "metadata": {},
   "outputs": [
    {
     "data": {
      "text/html": [
       "<div>\n",
       "<style scoped>\n",
       "    .dataframe tbody tr th:only-of-type {\n",
       "        vertical-align: middle;\n",
       "    }\n",
       "\n",
       "    .dataframe tbody tr th {\n",
       "        vertical-align: top;\n",
       "    }\n",
       "\n",
       "    .dataframe thead th {\n",
       "        text-align: right;\n",
       "    }\n",
       "</style>\n",
       "<table border=\"1\" class=\"dataframe\">\n",
       "  <thead>\n",
       "    <tr style=\"text-align: right;\">\n",
       "      <th></th>\n",
       "      <th>Date</th>\n",
       "      <th>News</th>\n",
       "      <th>Subjectivity</th>\n",
       "      <th>Polarity</th>\n",
       "    </tr>\n",
       "  </thead>\n",
       "  <tbody>\n",
       "    <tr>\n",
       "      <th>0</th>\n",
       "      <td>2001-01-01</td>\n",
       "      <td>win over cena satisfying but defeating underta...</td>\n",
       "      <td>0.633333</td>\n",
       "      <td>0.433333</td>\n",
       "    </tr>\n",
       "    <tr>\n",
       "      <th>1</th>\n",
       "      <td>2001-01-02</td>\n",
       "      <td>Status quo will not be disturbed at Ayodhya; s...</td>\n",
       "      <td>0.282333</td>\n",
       "      <td>0.151333</td>\n",
       "    </tr>\n",
       "    <tr>\n",
       "      <th>2</th>\n",
       "      <td>2001-01-03</td>\n",
       "      <td>Powerless north India gropes in the dark Think...</td>\n",
       "      <td>0.407692</td>\n",
       "      <td>0.088462</td>\n",
       "    </tr>\n",
       "    <tr>\n",
       "      <th>3</th>\n",
       "      <td>2001-01-04</td>\n",
       "      <td>The string that pulled Stephen Hawking to Indi...</td>\n",
       "      <td>0.446847</td>\n",
       "      <td>0.087961</td>\n",
       "    </tr>\n",
       "    <tr>\n",
       "      <th>4</th>\n",
       "      <td>2001-01-05</td>\n",
       "      <td>Light combat craft takes India into club class...</td>\n",
       "      <td>0.476612</td>\n",
       "      <td>0.262024</td>\n",
       "    </tr>\n",
       "    <tr>\n",
       "      <th>5</th>\n",
       "      <td>2001-01-06</td>\n",
       "      <td>Light combat craft takes India into club class...</td>\n",
       "      <td>0.439394</td>\n",
       "      <td>0.248485</td>\n",
       "    </tr>\n",
       "    <tr>\n",
       "      <th>6</th>\n",
       "      <td>2001-01-07</td>\n",
       "      <td>Muslim body rules out talks on Ayodhya Bajrang...</td>\n",
       "      <td>0.365356</td>\n",
       "      <td>-0.060708</td>\n",
       "    </tr>\n",
       "    <tr>\n",
       "      <th>7</th>\n",
       "      <td>2001-01-08</td>\n",
       "      <td>Sangh Parivar; Babri panel up the ante Frontru...</td>\n",
       "      <td>0.414653</td>\n",
       "      <td>-0.019214</td>\n",
       "    </tr>\n",
       "    <tr>\n",
       "      <th>8</th>\n",
       "      <td>2001-01-09</td>\n",
       "      <td>Financier Bharat Shah held for alleged links w...</td>\n",
       "      <td>0.501934</td>\n",
       "      <td>-0.003837</td>\n",
       "    </tr>\n",
       "    <tr>\n",
       "      <th>9</th>\n",
       "      <td>2001-01-10</td>\n",
       "      <td>Fend for yourselves; Pande tells doctors Burea...</td>\n",
       "      <td>0.000000</td>\n",
       "      <td>0.000000</td>\n",
       "    </tr>\n",
       "  </tbody>\n",
       "</table>\n",
       "</div>"
      ],
      "text/plain": [
       "        Date                                               News  Subjectivity  \\\n",
       "0 2001-01-01  win over cena satisfying but defeating underta...      0.633333   \n",
       "1 2001-01-02  Status quo will not be disturbed at Ayodhya; s...      0.282333   \n",
       "2 2001-01-03  Powerless north India gropes in the dark Think...      0.407692   \n",
       "3 2001-01-04  The string that pulled Stephen Hawking to Indi...      0.446847   \n",
       "4 2001-01-05  Light combat craft takes India into club class...      0.476612   \n",
       "5 2001-01-06  Light combat craft takes India into club class...      0.439394   \n",
       "6 2001-01-07  Muslim body rules out talks on Ayodhya Bajrang...      0.365356   \n",
       "7 2001-01-08  Sangh Parivar; Babri panel up the ante Frontru...      0.414653   \n",
       "8 2001-01-09  Financier Bharat Shah held for alleged links w...      0.501934   \n",
       "9 2001-01-10  Fend for yourselves; Pande tells doctors Burea...      0.000000   \n",
       "\n",
       "   Polarity  \n",
       "0  0.433333  \n",
       "1  0.151333  \n",
       "2  0.088462  \n",
       "3  0.087961  \n",
       "4  0.262024  \n",
       "5  0.248485  \n",
       "6 -0.060708  \n",
       "7 -0.019214  \n",
       "8 -0.003837  \n",
       "9  0.000000  "
      ]
     },
     "execution_count": 20,
     "metadata": {},
     "output_type": "execute_result"
    }
   ],
   "source": [
    "#Adding subjectivity and polarity columns\n",
    "news['Subjectivity'] = news['News'].apply(getSubjectivity)\n",
    "news['Polarity'] = news['News'].apply(getPolarity)\n",
    "news.head(10)"
   ]
  },
  {
   "cell_type": "code",
   "execution_count": 21,
   "metadata": {},
   "outputs": [
    {
     "data": {
      "text/plain": [
       "Text(0.5, 1.0, 'Polarity Score')"
      ]
     },
     "execution_count": 21,
     "metadata": {},
     "output_type": "execute_result"
    },
    {
     "data": {
      "image/png": "[encoded data removed]",
      "text/plain": [
       "<Figure size 864x432 with 1 Axes>"
      ]
     },
     "metadata": {
      "needs_background": "light"
     },
     "output_type": "display_data"
    }
   ],
   "source": [
    "plt.figure(figsize = (12,6))\n",
    "news['Polarity'].hist(color = 'red')\n",
    "plt.title('Polarity Score', fontsize=16)"
   ]
  },
  {
   "cell_type": "code",
   "execution_count": 22,
   "metadata": {},
   "outputs": [
    {
     "data": {
      "text/plain": [
       "Text(0.5, 1.0, 'Subjectivity Score')"
      ]
     },
     "execution_count": 22,
     "metadata": {},
     "output_type": "execute_result"
    },
    {
     "data": {
      "image/png": "[encoded data removed]",
      "text/plain": [
       "<Figure size 864x432 with 1 Axes>"
      ]
     },
     "metadata": {
      "needs_background": "light"
     },
     "output_type": "display_data"
    }
   ],
   "source": [
    "plt.figure(figsize = (12,6))\n",
    "news['Subjectivity'].hist(color = 'm')\n",
    "plt.title('Subjectivity Score', fontsize=16)"
   ]
  },
  {
   "cell_type": "code",
   "execution_count": 23,
   "metadata": {},
   "outputs": [],
   "source": [
    "def sentiment(x):\n",
    "    if x < 0:\n",
    "        return 'negative'\n",
    "    elif x == 0:\n",
    "        return 'neutral'\n",
    "    else:\n",
    "        return 'positive'\n",
    "    \n",
    "news['Polarity type'] = news['Polarity'].map(lambda x : sentiment(x))"
   ]
  },
  {
   "cell_type": "code",
   "execution_count": 24,
   "metadata": {},
   "outputs": [
    {
     "data": {
      "image/png": "[encoded data removed]",
      "text/plain": [
       "<Figure size 864x432 with 1 Axes>"
      ]
     },
     "metadata": {
      "needs_background": "light"
     },
     "output_type": "display_data"
    }
   ],
   "source": [
    "#plot for polarity\n",
    "plt.figure(figsize=(12,6))\n",
    "plt.title('Polarity type')\n",
    "plt.bar(news['Polarity type'].value_counts().index, news['Polarity type'].value_counts(), color='y')\n",
    "plt.show()"
   ]
  },
  {
   "cell_type": "code",
   "execution_count": 25,
   "metadata": {},
   "outputs": [],
   "source": [
    "df= news[['Subjectivity', 'Polarity']]"
   ]
  },
  {
   "cell_type": "code",
   "execution_count": 26,
   "metadata": {},
   "outputs": [
    {
     "data": {
      "text/html": [
       "<div>\n",
       "<style scoped>\n",
       "    .dataframe tbody tr th:only-of-type {\n",
       "        vertical-align: middle;\n",
       "    }\n",
       "\n",
       "    .dataframe tbody tr th {\n",
       "        vertical-align: top;\n",
       "    }\n",
       "\n",
       "    .dataframe thead th {\n",
       "        text-align: right;\n",
       "    }\n",
       "</style>\n",
       "<table border=\"1\" class=\"dataframe\">\n",
       "  <thead>\n",
       "    <tr style=\"text-align: right;\">\n",
       "      <th></th>\n",
       "      <th>Subjectivity</th>\n",
       "      <th>Polarity</th>\n",
       "    </tr>\n",
       "  </thead>\n",
       "  <tbody>\n",
       "    <tr>\n",
       "      <th>0</th>\n",
       "      <td>0.633333</td>\n",
       "      <td>0.740741</td>\n",
       "    </tr>\n",
       "    <tr>\n",
       "      <th>1</th>\n",
       "      <td>0.282333</td>\n",
       "      <td>0.427407</td>\n",
       "    </tr>\n",
       "    <tr>\n",
       "      <th>2</th>\n",
       "      <td>0.407692</td>\n",
       "      <td>0.357550</td>\n",
       "    </tr>\n",
       "    <tr>\n",
       "      <th>3</th>\n",
       "      <td>0.446847</td>\n",
       "      <td>0.356994</td>\n",
       "    </tr>\n",
       "    <tr>\n",
       "      <th>4</th>\n",
       "      <td>0.476612</td>\n",
       "      <td>0.550397</td>\n",
       "    </tr>\n",
       "  </tbody>\n",
       "</table>\n",
       "</div>"
      ],
      "text/plain": [
       "   Subjectivity  Polarity\n",
       "0      0.633333  0.740741\n",
       "1      0.282333  0.427407\n",
       "2      0.407692  0.357550\n",
       "3      0.446847  0.356994\n",
       "4      0.476612  0.550397"
      ]
     },
     "execution_count": 26,
     "metadata": {},
     "output_type": "execute_result"
    }
   ],
   "source": [
    "from sklearn.preprocessing import MinMaxScaler\n",
    "mms = MinMaxScaler()\n",
    "dff = pd.DataFrame(mms.fit_transform(df))\n",
    "dff.columns = df.columns\n",
    "dff.index = df.index\n",
    "dff.head()"
   ]
  },
  {
   "cell_type": "code",
   "execution_count": 27,
   "metadata": {},
   "outputs": [],
   "source": [
    "x = dff[0:249]\n",
    "y = stock['Close']"
   ]
  },
  {
   "cell_type": "code",
   "execution_count": 28,
   "metadata": {},
   "outputs": [
    {
     "data": {
      "text/plain": [
       "(199, 2)"
      ]
     },
     "execution_count": 28,
     "metadata": {},
     "output_type": "execute_result"
    }
   ],
   "source": [
    "#split dataset into train test sets\n",
    "from sklearn.model_selection import train_test_split\n",
    "\n",
    "x_train, x_test, y_train, y_test = train_test_split(x, y, test_size=0.2, random_state = 0)\n",
    "x_train.shape"
   ]
  },
  {
   "cell_type": "markdown",
   "metadata": {},
   "source": [
    "### Random forest regressor for hybrid analysis"
   ]
  },
  {
   "cell_type": "code",
   "execution_count": 29,
   "metadata": {},
   "outputs": [],
   "source": [
    "#fit model\n",
    "rf = RandomForestRegressor()\n",
    "rf.fit(x_train, y_train)\n",
    "prediction=rf.predict(x_test)"
   ]
  },
  {
   "cell_type": "code",
   "execution_count": 30,
   "metadata": {},
   "outputs": [
    {
     "data": {
      "text/html": [
       "<div>\n",
       "<style scoped>\n",
       "    .dataframe tbody tr th:only-of-type {\n",
       "        vertical-align: middle;\n",
       "    }\n",
       "\n",
       "    .dataframe tbody tr th {\n",
       "        vertical-align: top;\n",
       "    }\n",
       "\n",
       "    .dataframe thead th {\n",
       "        text-align: right;\n",
       "    }\n",
       "</style>\n",
       "<table border=\"1\" class=\"dataframe\">\n",
       "  <thead>\n",
       "    <tr style=\"text-align: right;\">\n",
       "      <th></th>\n",
       "      <th>Actual</th>\n",
       "      <th>Predict</th>\n",
       "    </tr>\n",
       "    <tr>\n",
       "      <th>Date</th>\n",
       "      <th></th>\n",
       "      <th></th>\n",
       "    </tr>\n",
       "  </thead>\n",
       "  <tbody>\n",
       "    <tr>\n",
       "      <th>2020-10-16</th>\n",
       "      <td>39982.980469</td>\n",
       "      <td>34330.799219</td>\n",
       "    </tr>\n",
       "    <tr>\n",
       "      <th>2020-06-25</th>\n",
       "      <td>34842.101563</td>\n",
       "      <td>36156.882031</td>\n",
       "    </tr>\n",
       "    <tr>\n",
       "      <th>2020-02-06</th>\n",
       "      <td>41306.031250</td>\n",
       "      <td>38767.664844</td>\n",
       "    </tr>\n",
       "    <tr>\n",
       "      <th>2020-06-01</th>\n",
       "      <td>33303.519531</td>\n",
       "      <td>37992.421094</td>\n",
       "    </tr>\n",
       "    <tr>\n",
       "      <th>2020-05-22</th>\n",
       "      <td>30672.589844</td>\n",
       "      <td>39235.193750</td>\n",
       "    </tr>\n",
       "    <tr>\n",
       "      <th>2020-02-03</th>\n",
       "      <td>39872.308594</td>\n",
       "      <td>37810.448633</td>\n",
       "    </tr>\n",
       "    <tr>\n",
       "      <th>2019-12-23</th>\n",
       "      <td>41642.660156</td>\n",
       "      <td>37767.258203</td>\n",
       "    </tr>\n",
       "    <tr>\n",
       "      <th>2020-06-12</th>\n",
       "      <td>33780.890625</td>\n",
       "      <td>37681.738281</td>\n",
       "    </tr>\n",
       "    <tr>\n",
       "      <th>2020-09-03</th>\n",
       "      <td>38990.941406</td>\n",
       "      <td>37446.198828</td>\n",
       "    </tr>\n",
       "    <tr>\n",
       "      <th>2020-08-27</th>\n",
       "      <td>39113.468750</td>\n",
       "      <td>38992.615625</td>\n",
       "    </tr>\n",
       "  </tbody>\n",
       "</table>\n",
       "</div>"
      ],
      "text/plain": [
       "                  Actual       Predict\n",
       "Date                                  \n",
       "2020-10-16  39982.980469  34330.799219\n",
       "2020-06-25  34842.101563  36156.882031\n",
       "2020-02-06  41306.031250  38767.664844\n",
       "2020-06-01  33303.519531  37992.421094\n",
       "2020-05-22  30672.589844  39235.193750\n",
       "2020-02-03  39872.308594  37810.448633\n",
       "2019-12-23  41642.660156  37767.258203\n",
       "2020-06-12  33780.890625  37681.738281\n",
       "2020-09-03  38990.941406  37446.198828\n",
       "2020-08-27  39113.468750  38992.615625"
      ]
     },
     "execution_count": 30,
     "metadata": {},
     "output_type": "execute_result"
    }
   ],
   "source": [
    "data = pd.DataFrame({'Actual': y_test, 'Predict': prediction})\n",
    "data.head(10)"
   ]
  },
  {
   "cell_type": "code",
   "execution_count": 31,
   "metadata": {},
   "outputs": [
    {
     "name": "stdout",
     "output_type": "stream",
     "text": [
      "Root mean square error =  4025.9823194495257  RMSE\n"
     ]
    }
   ],
   "source": [
    "print(\"Root mean square error = \",math.sqrt(mean_squared_error(prediction,y_test)),\" RMSE\")"
   ]
  },
  {
   "cell_type": "markdown",
   "metadata": {},
   "source": [
    "# Thank You !!"
   ]
  },
  {
   "cell_type": "code",
   "execution_count": null,
   "metadata": {},
   "outputs": [],
   "source": []
  }
 ],
 "metadata": {
  "kernelspec": {
   "display_name": "Python 3",
   "language": "python",
   "name": "python3"
  },
  "language_info": {
   "codemirror_mode": {
    "name": "ipython",
    "version": 3
   },
   "file_extension": ".py",
   "mimetype": "text/x-python",
   "name": "python",
   "nbconvert_exporter": "python",
   "pygments_lexer": "ipython3",
   "version": "3.7.3"
  }
 },
 "nbformat": 4,
 "nbformat_minor": 2
}
